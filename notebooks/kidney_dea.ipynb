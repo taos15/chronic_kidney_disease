{
 "cells": [
  {
   "cell_type": "markdown",
   "metadata": {},
   "source": [
    "# Kidney Disease"
   ]
  },
  {
   "cell_type": "markdown",
   "metadata": {},
   "source": [
    "## Imports"
   ]
  },
  {
   "cell_type": "code",
   "execution_count": null,
   "metadata": {},
   "outputs": [],
   "source": [
    "import sys\n",
    "import os\n",
    "\n",
    "# Add the directory `src` containing python code\n",
    "sys.path.append(os.path.abspath('../src'))"
   ]
  },
  {
   "cell_type": "code",
   "execution_count": null,
   "metadata": {},
   "outputs": [],
   "source": [
    "import numpy as np\n",
    "import pandas as pd\n",
    "import matplotlib.pyplot as plt\n",
    "from matplotlib.axes import Axes\n",
    "import seaborn as sns\n",
    "from dea_proccessing import get_df_info, label_encode_categorical_columns, one_shot_encode_categorical_columns, filtered_df\n",
    "from graph_func import gender_boxplot_graph"
   ]
  },
  {
   "cell_type": "code",
   "execution_count": null,
   "metadata": {},
   "outputs": [],
   "source": [
    "import numpy as np\n",
    "import pandas as pd"
   ]
  },
  {
   "cell_type": "code",
   "execution_count": null,
   "metadata": {},
   "outputs": [],
   "source": [
    "kidney_df = pd.read_csv(\"../data/Chronic_Kidney_Disease_data.csv\")\n",
    "kidney_df.drop(columns=[\"DoctorInCharge\"], inplace=True)\n",
    "kidney_df.head(5)"
   ]
  },
  {
   "cell_type": "markdown",
   "metadata": {},
   "source": [
    "## information"
   ]
  },
  {
   "cell_type": "code",
   "execution_count": null,
   "metadata": {},
   "outputs": [],
   "source": [
    "get_df_info(kidney_df)"
   ]
  },
  {
   "cell_type": "markdown",
   "metadata": {},
   "source": [
    "### Visualize data "
   ]
  },
  {
   "cell_type": "markdown",
   "metadata": {},
   "source": [
    "#### Calculate the correlation matrix"
   ]
  },
  {
   "cell_type": "code",
   "execution_count": null,
   "metadata": {},
   "outputs": [],
   "source": [
    "kidney_df_corr_matrix = kidney_df.corr()\n",
    "# high_corr_matrix = kidney_df_corr_matrix[\"Diagnosis\"].sort_values(ascending=True).index.to_list()[30:]\n",
    "\n",
    "high_corr_matrix = kidney_df_corr_matrix[\"Diagnosis\"].round(2).sort_values()[kidney_df_corr_matrix[\"Diagnosis\"].round(2).sort_values() >= 0].index.to_list()\n",
    "\n",
    "low_corr_matrix = kidney_df_corr_matrix[\"Diagnosis\"].sort_values(ascending=True).index.to_list()[:30]\n"
   ]
  },
  {
   "cell_type": "code",
   "execution_count": null,
   "metadata": {},
   "outputs": [],
   "source": [
    "kidney_df_corr_matrix"
   ]
  },
  {
   "cell_type": "markdown",
   "metadata": {},
   "source": [
    "##### Heatmap"
   ]
  },
  {
   "cell_type": "code",
   "execution_count": null,
   "metadata": {},
   "outputs": [],
   "source": [
    "columns_lst = [\"Diagnosis\",\"NauseaVomiting\", \"Smoking\",\"DietQuality\", \"HbA1c\", \"ProteinInUrine\",\n",
    "               \"HealthLiteracy\", \"MedicationAdherence\", \"AlcoholConsumption\", \"SleepQuality\",\"SerumCreatinine\", \"ACR\",\n",
    "               \"MedicalCheckupsFrequency\", \"QualityOfLifeScore\",\"BMI\", \"SystolicBP\", \"BUNLevels\",\n",
    "               \"PhysicalActivity\", \"DiastolicBP\", \"FastingBloodSugar\", \"GFR\", \"Age\"\n",
    "              ]"
   ]
  },
  {
   "cell_type": "code",
   "execution_count": null,
   "metadata": {},
   "outputs": [],
   "source": [
    "filtered_df(kidney_df ).T"
   ]
  },
  {
   "cell_type": "code",
   "execution_count": null,
   "metadata": {},
   "outputs": [],
   "source": [
    "kidney_df[columns_lst]"
   ]
  },
  {
   "cell_type": "code",
   "execution_count": null,
   "metadata": {},
   "outputs": [],
   "source": [
    "plt.figure(figsize=(14, 10))\n",
    "# Create a mask for the upper triangle\n",
    "matrix = np.triu(filtered_df(kidney_df,columns=kidney_df.columns.to_list()[6:20] ).corr())\n",
    "sns.heatmap(filtered_df(kidney_df, columns=kidney_df.columns.to_list()[6:20] ).corr(),mask=matrix, annot=True, cmap='coolwarm', fmt=\".2f\", linewidths=0.5)\n",
    "plt.title('Correlation Heatmap')\n",
    "plt.show()"
   ]
  },
  {
   "cell_type": "markdown",
   "metadata": {},
   "source": [
    "##### Corr matrix heatmap"
   ]
  },
  {
   "cell_type": "markdown",
   "metadata": {},
   "source": [
    "#### High Correlation Heatmap"
   ]
  },
  {
   "cell_type": "code",
   "execution_count": null,
   "metadata": {},
   "outputs": [],
   "source": [
    "# plt.figure()\n",
    "\n",
    "ax: Axes\n",
    "fig, ax = plt.subplots(figsize=(20,16))\n",
    "\n",
    "\n",
    "# Create a mask for the upper triangle\n",
    "matrix = np.triu(filtered_df(kidney_df,columns=high_corr_matrix ).corr())\n",
    "\n",
    "# Generate a custom diverging colormap\n",
    "cmap = sns.diverging_palette(230, 20, as_cmap=True)\n",
    "\n",
    "sns.heatmap(filtered_df(kidney_df, columns=high_corr_matrix ).corr()[high_corr_matrix],mask=matrix, annot=True, cmap=cmap ,fmt=\".2f\",\n",
    "            square=True, vmax=0.2 ,linewidths=0.5, cbar_kws={\"shrink\": .5})\n",
    "# sns.heatmap(filtered_df(kidney_df, columns=high_corr_matrix ).corr(),mask=matrix, annot=True, cmap='coolwarm', fmt=\".2f\", linewidths=0.5)\n",
    "plt.title('Correlation Heatmap')\n",
    "plt.show()"
   ]
  },
  {
   "cell_type": "code",
   "execution_count": null,
   "metadata": {},
   "outputs": [],
   "source": [
    "kidney_df.sample(10)"
   ]
  },
  {
   "cell_type": "code",
   "execution_count": null,
   "metadata": {},
   "outputs": [],
   "source": [
    "# for col in columns_lst:\n",
    "#     sns.relplot(x=\"Age\" , y=col, col=\"Gender\",data=kidney_df, hue=\"Diagnosis\" )"
   ]
  },
  {
   "cell_type": "code",
   "execution_count": null,
   "metadata": {},
   "outputs": [],
   "source": [
    "kidney_df[kidney_df[\"Diagnosis\"] == 0][\"SerumCreatinine\"].describe()"
   ]
  },
  {
   "cell_type": "code",
   "execution_count": null,
   "metadata": {},
   "outputs": [],
   "source": [
    "kidney_df[kidney_df[\"Diagnosis\"] == 1][\"SerumCreatinine\"].describe()"
   ]
  },
  {
   "cell_type": "code",
   "execution_count": null,
   "metadata": {},
   "outputs": [],
   "source": [
    "kidney_df[\"SerumCreatinine\"].unique().size/100"
   ]
  },
  {
   "cell_type": "code",
   "execution_count": null,
   "metadata": {},
   "outputs": [],
   "source": [
    "post_kidney_df = kidney_df[kidney_df[\"Diagnosis\"] == 1]\n",
    "post_age_kidney_df = post_kidney_df.groupby(\"Age\").mean()\n",
    "post_creatine_kidney_df = post_kidney_df.groupby(\"SerumCreatinine\").mean()"
   ]
  },
  {
   "cell_type": "code",
   "execution_count": null,
   "metadata": {},
   "outputs": [],
   "source": [
    "post_creatine_kidney_df.T"
   ]
  },
  {
   "cell_type": "markdown",
   "metadata": {},
   "source": [
    "### Creatine levels by Age"
   ]
  },
  {
   "cell_type": "code",
   "execution_count": null,
   "metadata": {},
   "outputs": [],
   "source": [
    "post_age_kidney_df.index"
   ]
  },
  {
   "cell_type": "markdown",
   "metadata": {},
   "source": [
    "#### Male Serum Creatine level by age"
   ]
  },
  {
   "cell_type": "code",
   "execution_count": null,
   "metadata": {},
   "outputs": [],
   "source": [
    "# sns.set_theme(style=\"whitegrid\")\n",
    "ax: Axes\n",
    "fig, ax = plt.subplots(layout='constrained')\n",
    "\n",
    "fig.set_size_inches(16, 10)\n",
    "\n",
    "ax.set(ylim=(0,4))\n",
    "\n",
    "creatine_bar = ax.bar(x=post_age_kidney_df.index, height=post_age_kidney_df[\"SerumCreatinine\"].round(2),width=.9, label=\"Serum Creatine\")\n",
    "# creatine_bar_2 = ax.bar(x=post_kidney_df.index, height=post_kidney_df[\"SerumCreatinine\"].round(2).min(),width=.9, label=\"Serum Creatine2\")\n",
    "\n",
    "ax.bar_label(creatine_bar, padding=-30,rotation=90, label_type=\"edge\", color=\"white\")\n",
    "\n",
    "ax.set_title(\"Creatine level by age\")\n",
    "ax.set_xlabel(\"Age\")\n",
    "ax.set_ylabel(\"Serum Creatine\")\n",
    "ax.set_xticks(np.arange(20, 91, 5 ) )\n",
    "ax.set_xticks(post_age_kidney_df.index, minor=True)\n",
    "\n",
    "ax.legend(loc=\"upper right\")\n",
    "\n",
    "plt.show()"
   ]
  },
  {
   "cell_type": "code",
   "execution_count": null,
   "metadata": {},
   "outputs": [],
   "source": [
    "post_creatine_kidney_df.index"
   ]
  },
  {
   "cell_type": "code",
   "execution_count": null,
   "metadata": {},
   "outputs": [],
   "source": []
  },
  {
   "cell_type": "markdown",
   "metadata": {},
   "source": [
    "### Creatine levels"
   ]
  },
  {
   "cell_type": "code",
   "execution_count": null,
   "metadata": {},
   "outputs": [],
   "source": [
    "\n",
    "ax: Axes\n",
    "fig, ax = plt.subplots()\n",
    "fig.set_size_inches(12, 8)\n",
    "\n",
    "\n",
    "ax.plot(post_age_kidney_df.index, \"SerumCreatinine\", data=post_age_kidney_df)\n",
    "plt.show\n",
    "\n"
   ]
  },
  {
   "cell_type": "code",
   "execution_count": null,
   "metadata": {},
   "outputs": [],
   "source": [
    "\n",
    "kidney_df[\"Gender_label\"] =  kidney_df[\"Gender\"].apply(lambda x: \"Male\" if x == 1 else \"Female\")\n"
   ]
  },
  {
   "cell_type": "code",
   "execution_count": null,
   "metadata": {},
   "outputs": [],
   "source": [
    "kidney_df[\"Gender_label\"]"
   ]
  },
  {
   "cell_type": "code",
   "execution_count": null,
   "metadata": {},
   "outputs": [],
   "source": [
    "male_kidney_df = kidney_df[kidney_df[\"Gender\"] == 0 ]\n",
    "female_kidney_df = kidney_df[kidney_df[\"Gender\"] == 1 ]\n",
    "\n",
    "male_kidney_df"
   ]
  },
  {
   "cell_type": "code",
   "execution_count": null,
   "metadata": {},
   "outputs": [],
   "source": [
    "post_kidney_df.quantile(0.25)"
   ]
  },
  {
   "cell_type": "code",
   "execution_count": null,
   "metadata": {},
   "outputs": [],
   "source": [
    "\n",
    "more_than_1_columns = [\"Gender\"] + [str(col_name) for col_name, col_value in post_kidney_df.quantile(0.25,numeric_only=True).items() if col_value > 1]\n",
    "print( more_than_1_columns)\n",
    "filtered_df(post_kidney_df,columns=more_than_1_columns)"
   ]
  },
  {
   "cell_type": "code",
   "execution_count": null,
   "metadata": {},
   "outputs": [],
   "source": [
    "gender_boxplot_graph(filtered_df(post_kidney_df,columns=more_than_1_columns , rm_columns=[\"SleepQuality\", \n",
    "                                                                                            \"HbA1c\",\n",
    "                                                                                            \"SerumElectrolytesPotassium\",\n",
    "                                                                                            \"SerumElectrolytesPhosphorus\",\n",
    "                                                                                            \"SerumElectrolytesCalcium\"\n",
    "                                                                                            ]),\n",
    "                    \"male\",\n",
    "                    title=\"Male Positive Diagnosises\",\n",
    "                    orient= \"h\",\n",
    "                    legend=True,\n",
    "                    )"
   ]
  }
 ],
 "metadata": {
  "kernelspec": {
   "display_name": "base",
   "language": "python",
   "name": "python3"
  },
  "language_info": {
   "codemirror_mode": {
    "name": "ipython",
    "version": 3
   },
   "file_extension": ".py",
   "mimetype": "text/x-python",
   "name": "python",
   "nbconvert_exporter": "python",
   "pygments_lexer": "ipython3",
   "version": "3.11.8"
  }
 },
 "nbformat": 4,
 "nbformat_minor": 2
}
