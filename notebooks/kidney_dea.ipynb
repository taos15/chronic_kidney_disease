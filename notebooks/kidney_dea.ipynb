{
 "cells": [
  {
   "cell_type": "markdown",
   "metadata": {},
   "source": [
    "# Kidney Disease"
   ]
  },
  {
   "cell_type": "markdown",
   "metadata": {},
   "source": [
    "## Imports"
   ]
  },
  {
   "cell_type": "code",
   "execution_count": null,
   "metadata": {},
   "outputs": [],
   "source": [
    "import sys\n",
    "import os\n",
    "\n",
    "# Add the directory `src` containing python code\n",
    "sys.path.append(os.path.abspath('../src'))"
   ]
  },
  {
   "cell_type": "code",
   "execution_count": null,
   "metadata": {},
   "outputs": [],
   "source": [
    "import numpy as np\n",
    "import pandas as pd\n",
    "import matplotlib.pyplot as plt\n",
    "from matplotlib.axes import Axes\n",
    "import seaborn as sns\n",
    "from dea_proccessing import get_df_info, label_encode_categorical_columns, one_shot_encode_categorical_columns, filtered_df\n",
    "from graph_func import gender_boxplot_graph"
   ]
  },
  {
   "cell_type": "code",
   "execution_count": null,
   "metadata": {},
   "outputs": [],
   "source": [
    "import numpy as np\n",
    "import pandas as pd"
   ]
  },
  {
   "cell_type": "code",
   "execution_count": null,
   "metadata": {},
   "outputs": [],
   "source": [
    "kidney_df = pd.read_csv(\"../data/Chronic_Kidney_Disease_data.csv\")\n",
    "kidney_df.drop(columns=[\"DoctorInCharge\"], inplace=True)\n",
    "kidney_df.head(5)"
   ]
  },
  {
   "cell_type": "markdown",
   "metadata": {},
   "source": [
    "## information"
   ]
  },
  {
   "cell_type": "code",
   "execution_count": null,
   "metadata": {},
   "outputs": [],
   "source": [
    "get_df_info(kidney_df)"
   ]
  },
  {
   "cell_type": "markdown",
   "metadata": {},
   "source": [
    "### Visualize data "
   ]
  },
  {
   "cell_type": "markdown",
   "metadata": {},
   "source": [
    "#### Calculate the correlation matrix"
   ]
  },
  {
   "cell_type": "code",
   "execution_count": null,
   "metadata": {},
   "outputs": [],
   "source": [
    "kidney_df_corr_matrix = kidney_df.corr()\n",
    "high_corr_matrix = kidney_df_corr_matrix[\"Diagnosis\"].sort_values(ascending=True).index.to_list()[30:]\n"
   ]
  },
  {
   "cell_type": "markdown",
   "metadata": {},
   "source": [
    "##### Heatmap"
   ]
  },
  {
   "cell_type": "code",
   "execution_count": null,
   "metadata": {},
   "outputs": [],
   "source": [
    "columns_lst = [\"Diagnosis\",\"NauseaVomiting\", \"Smoking\",\"DietQuality\", \"HbA1c\", \"ProteinInUrine\",\n",
    "               \"HealthLiteracy\", \"MedicationAdherence\", \"AlcoholConsumption\", \"SleepQuality\",\"SerumCreatinine\", \"ACR\",\n",
    "               \"MedicalCheckupsFrequency\", \"QualityOfLifeScore\",\"BMI\", \"SystolicBP\", \"BUNLevels\",\n",
    "               \"PhysicalActivity\", \"DiastolicBP\", \"FastingBloodSugar\", \"GFR\", \"Age\"\n",
    "              ]"
   ]
  },
  {
   "cell_type": "code",
   "execution_count": null,
   "metadata": {},
   "outputs": [],
   "source": [
    "filtered_df(kidney_df ).T"
   ]
  },
  {
   "cell_type": "code",
   "execution_count": null,
   "metadata": {},
   "outputs": [],
   "source": [
    "kidney_df[columns_lst]"
   ]
  },
  {
   "cell_type": "code",
   "execution_count": null,
   "metadata": {},
   "outputs": [],
   "source": [
    "plt.figure(figsize=(14, 10))\n",
    "# Create a mask for the upper triangle\n",
    "matrix = np.triu(filtered_df(kidney_df,columns=kidney_df.columns.to_list()[6:20] ).corr())\n",
    "sns.heatmap(filtered_df(kidney_df, columns=kidney_df.columns.to_list()[6:20] ).corr(),mask=matrix, annot=True, cmap='coolwarm', fmt=\".2f\", linewidths=0.5)\n",
    "plt.title('Correlation Heatmap')\n",
    "plt.show()"
   ]
  },
  {
   "cell_type": "markdown",
   "metadata": {},
   "source": [
    "##### High corr matrix heatmap"
   ]
  },
  {
   "cell_type": "code",
   "execution_count": null,
   "metadata": {},
   "outputs": [],
   "source": [
    "filtered_df(kidney_df,columns=high_corr_matrix ).corr().max()"
   ]
  },
  {
   "cell_type": "code",
   "execution_count": null,
   "metadata": {},
   "outputs": [],
   "source": [
    "plt.figure(figsize=(20, 12))\n",
    "# Create a mask for the upper triangle\n",
    "matrix = np.triu(filtered_df(kidney_df,columns=high_corr_matrix ).corr())\n",
    "\n",
    "# Generate a custom diverging colormap\n",
    "cmap = sns.diverging_palette(230, 20, as_cmap=True)\n",
    "\n",
    "sns.heatmap(filtered_df(kidney_df, columns=high_corr_matrix ).corr(),mask=matrix, annot=True, cmap=cmap ,fmt=\".2f\",\n",
    "            square=True, vmax=0.2 ,linewidths=0.5, cbar_kws={\"shrink\": .5})\n",
    "# sns.heatmap(filtered_df(kidney_df, columns=high_corr_matrix ).corr(),mask=matrix, annot=True, cmap='coolwarm', fmt=\".2f\", linewidths=0.5)\n",
    "plt.title('Correlation Heatmap')\n",
    "plt.show()"
   ]
  },
  {
   "cell_type": "code",
   "execution_count": null,
   "metadata": {},
   "outputs": [],
   "source": [
    "kidney_df.sample(10)"
   ]
  },
  {
   "cell_type": "code",
   "execution_count": null,
   "metadata": {},
   "outputs": [],
   "source": [
    "# for col in columns_lst:\n",
    "#     sns.relplot(x=\"Age\" , y=col, col=\"Gender\",data=kidney_df, hue=\"Diagnosis\" )"
   ]
  },
  {
   "cell_type": "code",
   "execution_count": null,
   "metadata": {},
   "outputs": [],
   "source": [
    "kidney_df[kidney_df[\"Diagnosis\"] == 0][\"SerumCreatinine\"].describe()"
   ]
  },
  {
   "cell_type": "code",
   "execution_count": null,
   "metadata": {},
   "outputs": [],
   "source": [
    "kidney_df[kidney_df[\"Diagnosis\"] == 1][\"SerumCreatinine\"].describe()"
   ]
  },
  {
   "cell_type": "code",
   "execution_count": null,
   "metadata": {},
   "outputs": [],
   "source": [
    "post_kidney_df = kidney_df[kidney_df[\"Diagnosis\"] == 1]\n",
    "post_age_kidney_df = post_kidney_df.groupby(\"Age\").mean()"
   ]
  },
  {
   "cell_type": "code",
   "execution_count": null,
   "metadata": {},
   "outputs": [],
   "source": [
    "post_age_kidney_df[\"SerumCreatinine\"].mean"
   ]
  },
  {
   "cell_type": "code",
   "execution_count": null,
   "metadata": {},
   "outputs": [],
   "source": [
    "# sns.set_theme(style=\"whitegrid\")\n",
    "ax: Axes\n",
    "fig, ax = plt.subplots(layout='constrained')\n",
    "\n",
    "fig.set_size_inches(16, 10)\n",
    "\n",
    "ax.set(ylim=(0,4))\n",
    "\n",
    "creatine_bar = ax.bar(x=post_age_kidney_df.index, height=post_age_kidney_df[\"SerumCreatinine\"].round(2),width=.9, label=\"Serum Creatine\")\n",
    "# creatine_bar_2 = ax.bar(x=post_kidney_df.index, height=post_kidney_df[\"SerumCreatinine\"].round(2).min(),width=.9, label=\"Serum Creatine2\")\n",
    "\n",
    "ax.bar_label(creatine_bar, padding=-30,rotation=90, label_type=\"edge\", color=\"white\")\n",
    "\n",
    "ax.set_title(\"Creatine level by age\")\n",
    "ax.set_xlabel(\"Age\")\n",
    "ax.set_ylabel(\"Serum Creatine\")\n",
    "ax.set_xticks(np.arange(20, 91, 5 ) )\n",
    "ax.set_xticks(post_age_kidney_df.index, minor=True)\n",
    "\n",
    "ax.legend(loc=\"upper right\")\n",
    "\n",
    "plt.show()"
   ]
  },
  {
   "cell_type": "code",
   "execution_count": null,
   "metadata": {},
   "outputs": [],
   "source": [
    "\n",
    "ax: Axes\n",
    "fig, ax = plt.subplots()\n",
    "fig.set_size_inches(12, 8)\n",
    "\n",
    "# ax.bar(\"Age\",kidney_df[kidney_df[\"Diagnosis\"] == 1][\"Age\"].mean())\n",
    "\n",
    "ax.plot(post_age_kidney_df.index, \"SerumCreatinine\", data=post_age_kidney_df)\n",
    "plt.show\n",
    "\n"
   ]
  },
  {
   "cell_type": "code",
   "execution_count": null,
   "metadata": {},
   "outputs": [],
   "source": [
    "kidney_df[\"Gender\"]"
   ]
  },
  {
   "cell_type": "code",
   "execution_count": null,
   "metadata": {},
   "outputs": [],
   "source": [
    "\n",
    "kidney_df[\"Gender_label\"] =  kidney_df[\"Gender\"].apply(lambda x: \"Male\" if x == 1 else \"Female\")\n"
   ]
  },
  {
   "cell_type": "code",
   "execution_count": null,
   "metadata": {},
   "outputs": [],
   "source": [
    "kidney_df[\"Gender_label\"]"
   ]
  },
  {
   "cell_type": "code",
   "execution_count": null,
   "metadata": {},
   "outputs": [],
   "source": [
    "male_kidney_df = kidney_df[kidney_df[\"Gender\"] == 1 ]\n",
    "female_kidney_df = kidney_df[kidney_df[\"Gender\"] == 0 ]\n",
    "\n",
    "male_kidney_df"
   ]
  },
  {
   "cell_type": "code",
   "execution_count": null,
   "metadata": {},
   "outputs": [],
   "source": [
    "\n",
    "more_than_1_columns = [\"Gender\"] + [str(col_name) for col_name, col_value in kidney_df.min(numeric_only=True).items() if col_value > 1]\n",
    "print( more_than_1_columns)"
   ]
  },
  {
   "cell_type": "code",
   "execution_count": null,
   "metadata": {},
   "outputs": [],
   "source": [
    "filtered_df(post_kidney_df,columns=more_than_1_columns).T"
   ]
  },
  {
   "cell_type": "code",
   "execution_count": null,
   "metadata": {},
   "outputs": [],
   "source": [
    "gender_boxplot_graph(filtered_df(post_kidney_df,columns=more_than_1_columns , rm_columns=[\"SleepQuality\"]),\n",
    "                    \"male\",\n",
    "                    legend=True,\n",
    "                    showmeans=True\n",
    "                    )"
   ]
  },
  {
   "cell_type": "code",
   "execution_count": null,
   "metadata": {},
   "outputs": [],
   "source": [
    "from typing import Any\n",
    "def gender_boxplot_graph_2(df: pd.DataFrame, gender: str = \"male\", **kwargs: Any):\n",
    "    \"\"\"This function generates a boxplot based on the gender passed, it defaults to male.\n",
    "\n",
    "    Args:\n",
    "        df (pd.DataFrame): The dataframe with the data.\n",
    "        gender (str, optional): The gender to create the plot for. Defaults to \"male\".\n",
    "        kwargs (Any, optional): Any argument to be passed to the boxplot.\n",
    "    \"\"\"\n",
    "    ax: Axes\n",
    "\n",
    "    fig, ax = plt.subplots(figsize=(12, 20))\n",
    "    data = df[df[\"Gender\"] == 1].drop(\"Gender\", axis=1) if gender == \"male\" else df[df[\"Gender\"] == 0].drop(\"Gender\", axis=1)\n",
    "    \n",
    "    sns.boxplot(data=data, ax=ax, **kwargs)\n",
    "    ax.set_title(f\"{gender.capitalize()} Graph\")\n",
    "\n",
    "    # Annotate the plot with median, Q1, Q3 labels\n",
    "    for i, column in enumerate(data.columns):\n",
    "        column_data = data[column].dropna()\n",
    "        quartiles = column_data.quantile([0.25, 0.5, 0.75])\n",
    "        q1 = quartiles[0.25]\n",
    "        median = quartiles[0.5]\n",
    "        q3 = quartiles[0.75]\n",
    "\n",
    "        ax.text(i, median, f'Median: {median:.2f}', horizontalalignment='center', size='small', color='black', weight='semibold')\n",
    "        ax.text(i, q1, f'Q1: {q1:.2f}', horizontalalignment='center', size='small', color='blue', weight='semibold')\n",
    "        ax.text(i, q3, f'Q3: {q3:.2f}', horizontalalignment='center', size='small', color='blue', weight='semibold')\n",
    "\n",
    "    plt.show()\n",
    "\n",
    "gender_boxplot_graph_2(filtered_df(kidney_df,columns=more_than_1_columns ),\n",
    "                    \"male\",\n",
    "                    legend=True,\n",
    "                    showmeans=True\n",
    "                    )"
   ]
  }
 ],
 "metadata": {
  "kernelspec": {
   "display_name": "base",
   "language": "python",
   "name": "python3"
  },
  "language_info": {
   "codemirror_mode": {
    "name": "ipython",
    "version": 3
   },
   "file_extension": ".py",
   "mimetype": "text/x-python",
   "name": "python",
   "nbconvert_exporter": "python",
   "pygments_lexer": "ipython3",
   "version": "3.11.8"
  }
 },
 "nbformat": 4,
 "nbformat_minor": 2
}
